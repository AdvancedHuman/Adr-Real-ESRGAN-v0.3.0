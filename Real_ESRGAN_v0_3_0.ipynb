{
  "nbformat": 4,
  "nbformat_minor": 0,
  "metadata": {
    "colab": {
      "provenance": [],
      "authorship_tag": "ABX9TyOqgtB5ArmuWO88KrDZogRJ",
      "include_colab_link": true
    },
    "kernelspec": {
      "name": "python3",
      "display_name": "Python 3"
    },
    "language_info": {
      "name": "python"
    }
  },
  "cells": [
    {
      "cell_type": "markdown",
      "metadata": {
        "id": "view-in-github",
        "colab_type": "text"
      },
      "source": [
        "<a href=\"https://colab.research.google.com/github/AdvancedHuman/Adr-Real-ESRGAN-v0.3.0/blob/main/Real_ESRGAN_v0_3_0.ipynb\" target=\"_parent\"><img src=\"https://colab.research.google.com/assets/colab-badge.svg\" alt=\"Open In Colab\"/></a>"
      ]
    },
    {
      "cell_type": "code",
      "execution_count": 3,
      "metadata": {
        "colab": {
          "base_uri": "https://localhost:8080/"
        },
        "id": "CZxNQHsJ8ATR",
        "outputId": "6c545f03-0018-4162-babc-bc2f9004b128"
      },
      "outputs": [
        {
          "output_type": "stream",
          "name": "stdout",
          "text": [
            "fatal: destination path 'Real-ESRGAN' already exists and is not an empty directory.\n",
            "/content/Real-ESRGAN\n"
          ]
        }
      ],
      "source": [
        "!git clone https://github.com/xinntao/Real-ESRGAN.git\n",
        "%cd /content/Real-ESRGAN"
      ]
    },
    {
      "cell_type": "code",
      "source": [
        "!"
      ],
      "metadata": {
        "id": "SMwf335h8qKR"
      },
      "execution_count": null,
      "outputs": []
    }
  ]
}